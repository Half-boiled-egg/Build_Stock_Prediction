{
 "cells": [
  {
   "cell_type": "markdown",
   "id": "361384c2",
   "metadata": {},
   "source": [
    "# Stock Prediction Using LSMT Micrsoft Corp. using pytorch"
   ]
  },
  {
   "cell_type": "code",
   "execution_count": 87,
   "id": "20c30851",
   "metadata": {},
   "outputs": [],
   "source": [
    "# importing the the required libreries\n",
    "import numpy as np\n",
    "import pandas as pd \n",
    "from sklearn.preprocessing import MinMaxScaler\n",
    "import matplotlib.pyplot as plt\n",
    "import torch\n",
    "import torch.nn as nn"
   ]
  },
  {
   "cell_type": "code",
   "execution_count": 88,
   "id": "39446a7a",
   "metadata": {},
   "outputs": [],
   "source": [
    "# read the file\n",
    "msft_df=pd.read_csv(\"MSFT2.csv\")\n",
    "closed_prices=msft_df[\"Close\"]"
   ]
  },
  {
   "cell_type": "code",
   "execution_count": 89,
   "id": "8a2f6faf",
   "metadata": {},
   "outputs": [
    {
     "data": {
      "text/html": [
       "<div>\n",
       "<style scoped>\n",
       "    .dataframe tbody tr th:only-of-type {\n",
       "        vertical-align: middle;\n",
       "    }\n",
       "\n",
       "    .dataframe tbody tr th {\n",
       "        vertical-align: top;\n",
       "    }\n",
       "\n",
       "    .dataframe thead th {\n",
       "        text-align: right;\n",
       "    }\n",
       "</style>\n",
       "<table border=\"1\" class=\"dataframe\">\n",
       "  <thead>\n",
       "    <tr style=\"text-align: right;\">\n",
       "      <th></th>\n",
       "      <th>Date</th>\n",
       "      <th>Open</th>\n",
       "      <th>High</th>\n",
       "      <th>Low</th>\n",
       "      <th>Close</th>\n",
       "      <th>Adj Close</th>\n",
       "      <th>Volume</th>\n",
       "    </tr>\n",
       "  </thead>\n",
       "  <tbody>\n",
       "    <tr>\n",
       "      <th>8521</th>\n",
       "      <td>2023-11-02</td>\n",
       "      <td>347.239990</td>\n",
       "      <td>348.829987</td>\n",
       "      <td>344.769989</td>\n",
       "      <td>348.320007</td>\n",
       "      <td>348.320007</td>\n",
       "      <td>24348100</td>\n",
       "    </tr>\n",
       "    <tr>\n",
       "      <th>8522</th>\n",
       "      <td>2023-11-03</td>\n",
       "      <td>349.630005</td>\n",
       "      <td>354.390015</td>\n",
       "      <td>347.329987</td>\n",
       "      <td>352.799988</td>\n",
       "      <td>352.799988</td>\n",
       "      <td>23624000</td>\n",
       "    </tr>\n",
       "    <tr>\n",
       "      <th>8523</th>\n",
       "      <td>2023-11-06</td>\n",
       "      <td>353.450012</td>\n",
       "      <td>357.540009</td>\n",
       "      <td>353.350006</td>\n",
       "      <td>356.529999</td>\n",
       "      <td>356.529999</td>\n",
       "      <td>23828300</td>\n",
       "    </tr>\n",
       "  </tbody>\n",
       "</table>\n",
       "</div>"
      ],
      "text/plain": [
       "            Date        Open        High         Low       Close   Adj Close  \\\n",
       "8521  2023-11-02  347.239990  348.829987  344.769989  348.320007  348.320007   \n",
       "8522  2023-11-03  349.630005  354.390015  347.329987  352.799988  352.799988   \n",
       "8523  2023-11-06  353.450012  357.540009  353.350006  356.529999  356.529999   \n",
       "\n",
       "        Volume  \n",
       "8521  24348100  \n",
       "8522  23624000  \n",
       "8523  23828300  "
      ]
     },
     "execution_count": 89,
     "metadata": {},
     "output_type": "execute_result"
    }
   ],
   "source": [
    "msft_df.head(2)\n",
    "msft_df.tail(3)"
   ]
  },
  {
   "cell_type": "code",
   "execution_count": 80,
   "id": "08e938e4",
   "metadata": {},
   "outputs": [
    {
     "name": "stdout",
     "output_type": "stream",
     "text": [
      "[9.43292395e-05 8.94921284e-05 4.11182309e-05 ... 9.68876469e-01\n",
      " 9.81359284e-01 9.91752416e-01]\n"
     ]
    }
   ],
   "source": [
    "#difine sequence length\n",
    "seq_len=15\n",
    "mm=MinMaxScaler()\n",
    "# increase the dimension to fit and transfrom\n",
    "scaled_prices=mm.fit_transform(np.array(closed_prices )[... , None]).squeeze()\n",
    "print(scaled_prices)"
   ]
  },
  {
   "cell_type": "code",
   "execution_count": 90,
   "id": "b9688595",
   "metadata": {},
   "outputs": [],
   "source": [
    "x=[] # for data\n",
    "y=[] # for traget\n",
    "\n",
    "# enlisting data and target\n",
    "for i in range(len(scaled_prices)- seq_len):\n",
    "    x.append(scaled_prices[i : i+seq_len])\n",
    "    y.append(scaled_prices[i+seq_len])"
   ]
  },
  {
   "cell_type": "code",
   "execution_count": 82,
   "id": "bdc19030",
   "metadata": {},
   "outputs": [
    {
     "name": "stdout",
     "output_type": "stream",
     "text": [
      "[9.43292395e-05 8.94921284e-05 4.11182309e-05 7.25566668e-06\n",
      " 0.00000000e+00 0.00000000e+00 5.07924531e-05 2.66068975e-05\n",
      " 1.71728590e-04 1.54798701e-04 8.94921284e-05 7.01436839e-05\n",
      " 8.94921284e-05 8.94921284e-05 8.94921284e-05]\n"
     ]
    },
    {
     "data": {
      "text/plain": [
       "15"
      ]
     },
     "execution_count": 82,
     "metadata": {},
     "output_type": "execute_result"
    }
   ],
   "source": [
    "print(x[0])\n",
    "len(x[0])\n",
    "# 15 value as per sequence lenth "
   ]
  },
  {
   "cell_type": "code",
   "execution_count": 91,
   "id": "88e6feea",
   "metadata": {},
   "outputs": [],
   "source": [
    "# Dive into train and test\n",
    "\n",
    "# change into numpy array\n",
    "x=np.array(x)[... , None]\n",
    "y=np.array(y)[... , None]\n",
    "\n",
    "train_x=torch.from_numpy(x[:int(0.8 * x.shape[0])]).float()\n",
    "train_y=torch.from_numpy(y[:int(0.8 * y.shape[0])]).float()\n",
    "\n",
    "test_x=torch.from_numpy(x[int(0.8 * x.shape[0]):]).float()\n",
    "test_y=torch.from_numpy(y[int(0.8 * y.shape[0]):]).float()"
   ]
  },
  {
   "cell_type": "code",
   "execution_count": 92,
   "id": "b699b4b6",
   "metadata": {},
   "outputs": [
    {
     "name": "stdout",
     "output_type": "stream",
     "text": [
      "tensor([[[9.4329e-05],\n",
      "         [8.9492e-05],\n",
      "         [4.1118e-05],\n",
      "         ...,\n",
      "         [8.9492e-05],\n",
      "         [8.9492e-05],\n",
      "         [8.9492e-05]],\n",
      "\n",
      "        [[8.9492e-05],\n",
      "         [4.1118e-05],\n",
      "         [7.2557e-06],\n",
      "         ...,\n",
      "         [8.9492e-05],\n",
      "         [8.9492e-05],\n",
      "         [1.0401e-04]],\n",
      "\n",
      "        [[4.1118e-05],\n",
      "         [7.2557e-06],\n",
      "         [0.0000e+00],\n",
      "         ...,\n",
      "         [8.9492e-05],\n",
      "         [1.0401e-04],\n",
      "         [9.9169e-05]],\n",
      "\n",
      "        ...,\n",
      "\n",
      "        [[1.7343e-01],\n",
      "         [1.7287e-01],\n",
      "         [1.7282e-01],\n",
      "         ...,\n",
      "         [1.7577e-01],\n",
      "         [1.7741e-01],\n",
      "         [1.8162e-01]],\n",
      "\n",
      "        [[1.7287e-01],\n",
      "         [1.7282e-01],\n",
      "         [1.7440e-01],\n",
      "         ...,\n",
      "         [1.7741e-01],\n",
      "         [1.8162e-01],\n",
      "         [1.7981e-01]],\n",
      "\n",
      "        [[1.7282e-01],\n",
      "         [1.7440e-01],\n",
      "         [1.7279e-01],\n",
      "         ...,\n",
      "         [1.8162e-01],\n",
      "         [1.7981e-01],\n",
      "         [1.7847e-01]]]) tensor([[[0.1744],\n",
      "         [0.1728],\n",
      "         [0.1730],\n",
      "         ...,\n",
      "         [0.1798],\n",
      "         [0.1785],\n",
      "         [0.1755]],\n",
      "\n",
      "        [[0.1728],\n",
      "         [0.1730],\n",
      "         [0.1726],\n",
      "         ...,\n",
      "         [0.1785],\n",
      "         [0.1755],\n",
      "         [0.1743]],\n",
      "\n",
      "        [[0.1730],\n",
      "         [0.1726],\n",
      "         [0.1725],\n",
      "         ...,\n",
      "         [0.1755],\n",
      "         [0.1743],\n",
      "         [0.1758]],\n",
      "\n",
      "        ...,\n",
      "\n",
      "        [[0.9211],\n",
      "         [0.9115],\n",
      "         [0.9252],\n",
      "         ...,\n",
      "         [0.9382],\n",
      "         [0.9404],\n",
      "         [0.9626]],\n",
      "\n",
      "        [[0.9115],\n",
      "         [0.9252],\n",
      "         [0.9236],\n",
      "         ...,\n",
      "         [0.9404],\n",
      "         [0.9626],\n",
      "         [0.9689]],\n",
      "\n",
      "        [[0.9252],\n",
      "         [0.9236],\n",
      "         [0.9181],\n",
      "         ...,\n",
      "         [0.9626],\n",
      "         [0.9689],\n",
      "         [0.9814]]])\n",
      "tensor([[1.0401e-04],\n",
      "        [9.9169e-05],\n",
      "        [1.2335e-04],\n",
      "        ...,\n",
      "        [1.7981e-01],\n",
      "        [1.7847e-01],\n",
      "        [1.7549e-01]]) tensor([[0.1743],\n",
      "        [0.1758],\n",
      "        [0.1757],\n",
      "        ...,\n",
      "        [0.9689],\n",
      "        [0.9814],\n",
      "        [0.9918]])\n"
     ]
    }
   ],
   "source": [
    "print(train_x,test_x)\n",
    "print(train_y,test_y)"
   ]
  },
  {
   "cell_type": "code",
   "execution_count": 97,
   "id": "17513428",
   "metadata": {},
   "outputs": [
    {
     "name": "stdout",
     "output_type": "stream",
     "text": [
      "10 epoch loss 0.0020345335360616446\n",
      "20 epoch loss 0.0016799992881715298\n",
      "30 epoch loss 0.0015643516089767218\n",
      "40 epoch loss 0.001463765394873917\n",
      "50 epoch loss 0.0013317482080310583\n",
      "60 epoch loss 0.0011563076404854655\n",
      "70 epoch loss 0.0009049999644048512\n",
      "80 epoch loss 0.0005058595561422408\n",
      "90 epoch loss 2.760311690508388e-05\n"
     ]
    },
    {
     "data": {
      "image/png": "[encoded data removed]",
      "text/plain": [
       "<Figure size 640x480 with 1 Axes>"
      ]
     },
     "metadata": {},
     "output_type": "display_data"
    }
   ],
   "source": [
    "# Define the model\n",
    "class Model(nn.Module):\n",
    "    def __init__(self, input_size, hidden_size):\n",
    "        super(Model, self).__init__()\n",
    "        self.lstm = nn.LSTM(input_size, hidden_size, batch_first=True)\n",
    "        self.fc = nn.Linear(hidden_size, 1)\n",
    "\n",
    "    def forward(self, x):\n",
    "        output, (hidden, cell) = self.lstm(x)\n",
    "        return self.fc(hidden[-1, :])\n",
    "\n",
    "# Reshape train_x and test_x to have shape (batch_size, sequence_length, input_size)\n",
    "#train_x = train_x.view(-1, seq_len, 1)\n",
    "#test_x = test_x.view(-1, seq_len, 1)\n",
    "#test_y=test_y.view(-1,1)\n",
    "    \n",
    "model = Model(input_size=1, hidden_size=32)\n",
    "\n",
    "optimizer = torch.optim.Adam(model.parameters(), lr=0.001)\n",
    "loss_func = nn.MSELoss()\n",
    "\n",
    "num_epochs = 100\n",
    "\n",
    "for epoch in range(num_epochs):\n",
    "    output = model(train_x)\n",
    "    loss = loss_func(output, train_y)\n",
    "\n",
    "    optimizer.zero_grad()\n",
    "    loss.backward()\n",
    "    optimizer.step()\n",
    "\n",
    "    if epoch % 10 == 0 and epoch != 0:\n",
    "        print(epoch, \"epoch loss\", loss.item())\n",
    "\n",
    "model.eval()\n",
    "with torch.no_grad():\n",
    "    output = model(test_x)\n",
    "\n",
    "# Assuming mm is a MinMaxScaler or similar transformation\n",
    "pred = mm.inverse_transform(output.numpy())\n",
    "real = mm.inverse_transform(test_y.numpy())\n",
    "\n",
    "plt.plot(pred.squeeze(), color=\"blue\", label=\"Predicted\")\n",
    "plt.plot(real.squeeze(), color=\"red\", label=\"Real\")\n",
    "plt.legend()\n",
    "plt.show()"
   ]
  },
  {
   "cell_type": "code",
   "execution_count": null,
   "id": "f923c275",
   "metadata": {},
   "outputs": [],
   "source": []
  }
 ],
 "metadata": {
  "kernelspec": {
   "display_name": "Python 3 (ipykernel)",
   "language": "python",
   "name": "python3"
  },
  "language_info": {
   "codemirror_mode": {
    "name": "ipython",
    "version": 3
   },
   "file_extension": ".py",
   "mimetype": "text/x-python",
   "name": "python",
   "nbconvert_exporter": "python",
   "pygments_lexer": "ipython3",
   "version": "3.10.9"
  }
 },
 "nbformat": 4,
 "nbformat_minor": 5
}
